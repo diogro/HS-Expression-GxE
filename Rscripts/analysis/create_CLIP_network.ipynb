{
 "cells": [
  {
   "cell_type": "code",
   "execution_count": 16,
   "metadata": {
    "metadata": {}
   },
   "outputs": [],
   "source": [
    "import os\n",
    "os.environ[\"OMP_NUM_THREADS\"] = \"32\"\n",
    "from graph_tool.all import *\n",
    "import pandas as pd\n",
    "import numpy as np\n",
    "import scipy as sp\n",
    "from sklearn.covariance import LedoitWolf, OAS\n",
    "import matplotlib.pyplot as plt\n",
    "import matplotlib.cm as mpl\n",
    "import seaborn as sns\n",
    "import statsmodels.api as sm\n",
    "from multipy.fdr import qvalue\n",
    "from multipy.fdr import lsu\n",
    "\n",
    "import dill"
   ]
  },
  {
   "cell_type": "code",
   "execution_count": 17,
   "metadata": {
    "metadata": {}
   },
   "outputs": [],
   "source": [
    "# Loading blocks...\n",
    "def load_blocks(blocks):\n",
    "    with open (blocks, \"rb\") as fh:\n",
    "        bs = dill.load(fh)[0:6]\n",
    "    return bs\n",
    "\n",
    "def filterByFDR(g, level, pval, keepOnlyMain=False):\n",
    "    # Filtering edges\n",
    "    pvals = np.array(g.edge_properties[pval].a)\n",
    "\n",
    "    fdr_ep = g.new_ep(\"bool\", True)\n",
    "    fdr_ep.a = lsu(pvals, q=level)\n",
    "\n",
    "    tv = GraphView(g, efilt=fdr_ep)\n",
    "\n",
    "    # Keeping largest component\n",
    "    if keepOnlyMain:\n",
    "        comp, hist = label_components(tv)\n",
    "        main_component = tv.new_vp(\"bool\", (comp.a == np.where(hist == max(hist))[0][0]))\n",
    "        tv.vertex_properties[\"main_component\"] = main_component\n",
    "        tv.set_vertex_filter(main_component)\n",
    "    return tv\n",
    "\n",
    "def filterBySign(g, ep, positive = True, keepOnlyMain = False):\n",
    "    # Filtering edges\n",
    "    corr = g.edge_properties[ep]\n",
    "    sign = g.new_ep(\"bool\", True)\n",
    "    if positive:\n",
    "        sign.a = np.array(corr.a > 0)\n",
    "    else:\n",
    "        sign.a = np.array(corr.a < 0)    \n",
    "\n",
    "    tv = GraphView(g, efilt=sign)\n",
    "\n",
    "    # Keeping largest component\n",
    "    if keepOnlyMain:\n",
    "        comp, hist = label_components(tv)\n",
    "        main_component = tv.new_vp(\"bool\", (comp.a == np.where(hist == max(hist))[0][0]))\n",
    "        tv.vertex_properties[\"main_component\"] = main_component\n",
    "        tv.set_vertex_filter(main_component)\n",
    "    return tv\n",
    "    \n",
    "# For each unique element in x, find its first apperance in x\n",
    "def first_occurrence(x):\n",
    "    _, idx = np.unique(x, return_index=True)\n",
    "    return idx\n",
    "\n",
    "def labelVertices(state):\n",
    "    g = state.g\n",
    "    g.vp.level_0 = g.new_vertex_property(\"double\", state.get_bs()[0])\n",
    "    first = first_occurrence(np.array([g.vp.level_0.a]))\n",
    "    state.g.vp.labels = g.new_vp(\"string\", [str(int(x)) if i in first else \"\" for i, x in enumerate(g.vp.level_0.a)])\n",
    "    return state"
   ]
  },
  {
   "cell_type": "code",
   "execution_count": 18,
   "metadata": {
    "metadata": {}
   },
   "outputs": [],
   "source": [
    "g_path = '../../SBM/snakemake-layer/cache/trimmed_graph/fdr-1e-3/layered/'\n",
    "tissues = ['head', 'body']\n",
    "conditions = ['hs', 'ctrl']\n",
    "graphs = {f'{tissue}':load_graph(g_path + f'{tissue}.xml.gz') for tissue in tissues}\n",
    "b_path = '../../SBM/snakemake-layer/cache/MCMC/blocks/fdr-1e-3/layered/'\n",
    "blocks = {f'{tissue}':load_blocks(b_path + f'{tissue}.dill') for tissue in tissues}\n",
    "\n",
    "labels = [f'{tissue}-{condition}' for tissue in tissues for condition in conditions]\n",
    "\n",
    "# Read clip graphs\n",
    "clip_path = '../../cache/'\n",
    "clip_graphs = {f'{tissue}':load_graph(clip_path + f'clip_g_{tissue}.xml.gz') for tissue in tissues}"
   ]
  },
  {
   "cell_type": "code",
   "execution_count": 19,
   "metadata": {
    "metadata": {}
   },
   "outputs": [
    {
     "name": "stdout",
     "output_type": "stream",
     "text": [
      "head-hs\n",
      "head-ctrl\n",
      "body-hs\n",
      "body-ctrl\n"
     ]
    }
   ],
   "source": [
    "cond_graphs = {}\n",
    "for t in tissues:\n",
    "    g = graphs[t]\n",
    "    ds = g.ep.dataset\n",
    "    for c in conditions:\n",
    "        l = f'{t}-{c}'\n",
    "        print(l)\n",
    "        u = GraphView(g, efilt=lambda e: ds[e] == c)\n",
    "        u = Graph(u, prune=True)  \n",
    "        cond_graphs[l] = u  "
   ]
  },
  {
   "cell_type": "code",
   "execution_count": 20,
   "metadata": {
    "metadata": {}
   },
   "outputs": [
    {
     "data": {
      "text/plain": [
       "{'head-hs': <Graph object, undirected, with 6826 vertices and 4767735 edges, 2 internal vertex properties, 5 internal edge properties, at 0x7fe40dd424d0>,\n",
       " 'head-ctrl': <Graph object, undirected, with 6826 vertices and 5097528 edges, 2 internal vertex properties, 5 internal edge properties, at 0x7fe40f187d50>,\n",
       " 'body-hs': <Graph object, undirected, with 6575 vertices and 1303683 edges, 2 internal vertex properties, 5 internal edge properties, at 0x7fe39c327bd0>,\n",
       " 'body-ctrl': <Graph object, undirected, with 6575 vertices and 2924794 edges, 2 internal vertex properties, 5 internal edge properties, at 0x7fe3ee26f4d0>}"
      ]
     },
     "execution_count": 20,
     "metadata": {},
     "output_type": "execute_result"
    }
   ],
   "source": [
    "cond_graphs"
   ]
  },
  {
   "cell_type": "code",
   "execution_count": 21,
   "metadata": {
    "metadata": {}
   },
   "outputs": [
    {
     "name": "stdout",
     "output_type": "stream",
     "text": [
      "head-hs\n",
      "head-ctrl\n",
      "body-hs\n",
      "body-ctrl\n"
     ]
    }
   ],
   "source": [
    "state = {}\n",
    "for t in tissues:\n",
    "    for c in conditions:\n",
    "        l = f'{t}-{c}'\n",
    "        print(l)\n",
    "        g = cond_graphs[l]\n",
    "        bs = blocks[t]\n",
    "        # Arctan transform on correlations...\n",
    "        corr = g.edge_properties[\"spearman\"]\n",
    "        g.ep.weight = g.new_edge_property(\"double\", (2*np.arctanh(corr.a)))\n",
    "\n",
    "        # Creating nested block model...\n",
    "        state[l] = NestedBlockState(g, bs=bs,\n",
    "                                    state_args=dict(recs=[g.ep.weight],\n",
    "                                                    rec_types=[\"real-normal\"]))"
   ]
  },
  {
   "cell_type": "code",
   "execution_count": 22,
   "metadata": {
    "metadata": {}
   },
   "outputs": [
    {
     "name": "stdout",
     "output_type": "stream",
     "text": [
      "head-ctrl\n",
      "body-ctrl\n",
      "head-hs\n",
      "body-hs\n"
     ]
    }
   ],
   "source": [
    "pos = {}\n",
    "for t in tissues:\n",
    "    c = 'ctrl'\n",
    "    l = f'{t}-{c}'\n",
    "    s = state[l]\n",
    "    g = cond_graphs[l]\n",
    "    labelVertices(s)\n",
    "    print(l)\n",
    "    pos_t, twat, tpos = s.draw( eorder=s.g.ep.weight,\n",
    "            # edge_pen_width = 0,\n",
    "            edge_color=prop_to_size(s.g.ep.weight, mi=-4, ma=4, power=1, log=False),\n",
    "            ecmap=(mpl.inferno, .6), \n",
    "            edge_gradient=[], \n",
    "            vertex_size = 10,\n",
    "            vertex_text = s.g.vp.labels,\n",
    "            vertex_text_position='centered',\n",
    "            hvertex_size = 25,\n",
    "            hedge_pen_width = 3,\n",
    "            vertex_color = s.g.vp.level_0,\n",
    "            vertex_fill_color = s.g.vp.level_0,\n",
    "            subsample_edges = 30000,\n",
    "            output = \"../../tmp/\" + l + \".png\", \n",
    "            output_size=(2000, 2000))\n",
    "    pos[t] = pos_t\n",
    "for t in tissues:\n",
    "    c = 'hs'\n",
    "    l = f'{t}-{c}'\n",
    "    s = state[l]\n",
    "    g = cond_graphs[l]\n",
    "    g.vp.pos = g.copy_property(pos[t])\n",
    "    labelVertices(s)\n",
    "    print(l)\n",
    "    s.draw( eorder=s.g.ep.weight,\n",
    "            # edge_pen_width = 0,\n",
    "            pos = g.vp.pos, \n",
    "            edge_color=prop_to_size(s.g.ep.weight, mi=-4, ma=4, power=1, log=False),\n",
    "            ecmap=(mpl.inferno, .6), \n",
    "            edge_gradient=[], \n",
    "            vertex_size = 10,\n",
    "            vertex_text = s.g.vp.labels,\n",
    "            vertex_text_position='centered',\n",
    "            hvertex_size = 25,\n",
    "            hedge_pen_width = 3,\n",
    "            vertex_color = s.g.vp.level_0,\n",
    "            vertex_fill_color = s.g.vp.level_0,\n",
    "            subsample_edges = 30000,\n",
    "            output = \"../../tmp/\" + l + \".png\", \n",
    "            output_size=(2000, 2000))  "
   ]
  },
  {
   "cell_type": "code",
   "execution_count": 29,
   "metadata": {
    "metadata": {}
   },
   "outputs": [],
   "source": [
    "def makeClipGraph (current_tissue, clip_fdr, pos, n_edges = 50000):\n",
    "\n",
    "    # output path\n",
    "    output_path = \"../../tmp/clip/\" + \"fdr-\" + str(clip_fdr) + \"/\" + current_tissue + \"-nEdges_\" + str(n_edges) \n",
    "    # create output directory\n",
    "    os.makedirs(os.path.dirname(output_path), exist_ok=True)\n",
    "\n",
    "    g_clip = clip_graphs[current_tissue]\n",
    "    gNeg= filterByFDR(g_clip, clip_fdr, 'clip_p')\n",
    "    gNeg = Graph(gNeg, prune=True)\n",
    "\n",
    "    gNeg = filterBySign(gNeg, 'clip_c', positive = False)\n",
    "    gNeg = Graph(gNeg, prune=True)\n",
    "    gNeg.ep.clip_c.a = np.abs(gNeg.ep.clip_c.a)\n",
    "\n",
    "    bs = blocks[current_tissue]\n",
    "\n",
    "    state = NestedBlockState(gNeg, bs=bs,\n",
    "                            state_args=dict(recs=[gNeg.ep.clip_c],\n",
    "                                            rec_types=[\"real-normal\"]))\n",
    "    labelVertices(state)\n",
    "    gNeg.vp.pos = gNeg.copy_property(pos)\n",
    "    state.draw(eorder=gNeg.ep.clip_c,\n",
    "                pos = gNeg.vp.pos, \n",
    "                edge_color=prop_to_size(gNeg.ep.clip_c, mi=0, ma=1, power=1, log=False),\n",
    "                ecmap=(mpl.inferno, .6), \n",
    "                edge_gradient=[], \n",
    "                vertex_size = 10,\n",
    "                vertex_text = state.g.vp.labels,\n",
    "                vertex_text_position='centered',\n",
    "                hvertex_size = 25,\n",
    "                hedge_pen_width = 3,\n",
    "                subsample_edges = n_edges,\n",
    "                output = output_path + \"-decohere.png\", \n",
    "                output_size=(2000, 2000))\n",
    "\n",
    "    g_clip = clip_graphs[current_tissue]\n",
    "    gPos = filterByFDR(g_clip, clip_fdr, 'clip_p')\n",
    "    gPos = Graph(gPos, prune=True)\n",
    "    gPos = filterBySign(gPos, 'clip_c', positive = True)\n",
    "    gPos = Graph(gPos, prune=True)\n",
    "    gPos.vp.pos = gPos.copy_property(pos)\n",
    "\n",
    "    bs = blocks[current_tissue]\n",
    "    state = NestedBlockState(gPos, bs=bs,\n",
    "                            state_args=dict(recs=[gPos.ep.clip_c],\n",
    "                                            rec_types=[\"real-normal\"]))\n",
    "    labelVertices(state)\n",
    "    state.draw( eorder=gPos.ep.clip_c,\n",
    "                pos = gPos.vp.pos, \n",
    "                edge_color=prop_to_size(gPos.ep.clip_c, mi=0, ma=1, power=1, log=False),\n",
    "                ecmap=(mpl.inferno, .6), \n",
    "                edge_gradient=[], \n",
    "                vertex_size = 10,\n",
    "                vertex_text = state.g.vp.labels,\n",
    "                vertex_text_position='centered',\n",
    "                hvertex_size = 25,\n",
    "                hedge_pen_width = 3,\n",
    "                subsample_edges = n_edges,\n",
    "                output = output_path + \"-integrate.png\", \n",
    "                output_size=(2000, 2000))\n",
    "    return gNeg, gPos, state\n"
   ]
  },
  {
   "cell_type": "code",
   "execution_count": 30,
   "metadata": {
    "metadata": {}
   },
   "outputs": [
    {
     "name": "stdout",
     "output_type": "stream",
     "text": [
      "Making clip graphs for FDR 0.1\n",
      "Tissue: head\n",
      "Tissue: body\n",
      "Making clip graphs for FDR 0.01\n",
      "Tissue: head\n",
      "Tissue: body\n",
      "Making clip graphs for FDR 0.001\n",
      "Tissue: head\n",
      "Tissue: body\n",
      "Making clip graphs for FDR 0.0001\n",
      "Tissue: head\n",
      "Tissue: body\n"
     ]
    }
   ],
   "source": [
    "# Make clip graphs for various FDRs\n",
    "fdrs = [1e-1, 1e-2, 1e-3, 1e-4]\n",
    "n_edges = 50000\n",
    "for fdr in fdrs:\n",
    "    print(f\"Making clip graphs for FDR {fdr}\")\n",
    "    for tissue in tissues:\n",
    "        print(f\"Tissue: {tissue}\")\n",
    "        makeClipGraph(tissue, fdr, pos[tissue], n_edges)"
   ]
  },
  {
   "cell_type": "code",
   "execution_count": 46,
   "metadata": {
    "metadata": {}
   },
   "outputs": [
    {
     "data": {
      "text/plain": [
       "<NestedBlockState object, with base <BlockState object with 282 blocks (282 nonempty), degree-corrected, with 1 edge covariate, for graph <Graph object, undirected, with 6826 vertices and 3480 edges, 4 internal vertex properties, 7 internal edge properties, at 0x7f0e4e3dc810>, at 0x7f0e50170890>, and 6 levels of sizes [(6826, 282), (282, 67), (67, 16), (16, 4), (4, 2), (2, 2)] at 0x7f0ddc89c9d0>"
      ]
     },
     "execution_count": 46,
     "metadata": {},
     "output_type": "execute_result"
    }
   ],
   "source": [
    "g_clip = clip_graphs['head']\n",
    "clip_fdr = 0.001\n",
    "gNeg= filterByFDR(g_clip, clip_fdr, 'clip_p')\n",
    "gNeg = Graph(gNeg, prune=True)\n",
    "\n",
    "gNeg = filterBySign(gNeg, 'clip_c', positive = False)\n",
    "gNeg = Graph(gNeg, prune=True)\n",
    "gNeg.ep.clip_c.a = np.abs(gNeg.ep.clip_c.a)\n",
    "\n",
    "bs = blocks['head']\n",
    "\n",
    "state = NestedBlockState(gNeg, bs=bs,\n",
    "                        state_args=dict(recs=[gNeg.ep.clip_c],\n",
    "                                        rec_types=[\"real-normal\"]))\n",
    "state.g\n",
    "\n",
    "labelVertices(state)\n",
    "# gNeg.vp.level_0 = gNeg.new_vertex_property(\"double\", state.get_bs()[0])\n",
    "# first = first_occurrence(np.array([gNeg.vp.level_0.a]))\n",
    "# gNeg.vp.labels = gNeg.new_vp(\"string\", [str(int(x)) if i in first else \"\" for i, x in enumerate(gNeg.vp.level_0.a)])"
   ]
  },
  {
   "cell_type": "code",
   "execution_count": 47,
   "metadata": {
    "metadata": {}
   },
   "outputs": [
    {
     "data": {
      "text/plain": [
       "<VertexPropertyMap object with value type 'string', for Graph 0x7f0e4e3dc810, at 0x7f0dbcaa3dd0>"
      ]
     },
     "execution_count": 47,
     "metadata": {},
     "output_type": "execute_result"
    }
   ],
   "source": [
    "state.g.vp.labels"
   ]
  },
  {
   "cell_type": "code",
   "execution_count": 49,
   "metadata": {
    "metadata": {}
   },
   "outputs": [],
   "source": [
    "\n",
    "state = NestedBlockState(gNeg, bs=bs,\n",
    "                        state_args=dict(recs=[gNeg.ep.clip_c],\n",
    "                                        rec_types=[\"real-normal\"]))\n",
    "labelVertices(state)\n",
    "pos, t, tpos = state.draw(eorder=state.g.ep.clip_c,\n",
    "                        edge_color=prop_to_size(state.g.ep.clip_c, mi=0, ma=1, power=1, log=False),\n",
    "                        ecmap=(mpl.inferno, .6), \n",
    "                        edge_gradient=[], \n",
    "                        vertex_size = 10,\n",
    "                        vertex_text = state.g.vp.labels,\n",
    "                        vertex_text_position='centered',\n",
    "                        hvertex_size = 25,\n",
    "                        hvertex_text = state.g.vp.labels,\n",
    "                        hedge_pen_width = 3,\n",
    "                        subsample_edges = 1000, \n",
    "                        output = \"../../tmp/test.png\", \n",
    "                        output_size=(2000, 2000))"
   ]
  }
 ],
 "metadata": {
  "kernelspec": {
   "display_name": "gt",
   "language": "python",
   "name": "python3"
  },
  "language_info": {
   "codemirror_mode": {
    "name": "ipython",
    "version": 3
   },
   "file_extension": ".py",
   "mimetype": "text/x-python",
   "name": "python",
   "nbconvert_exporter": "python",
   "pygments_lexer": "ipython3",
   "version": "3.11.6"
  }
 },
 "nbformat": 4,
 "nbformat_minor": 2
}
