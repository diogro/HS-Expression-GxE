{
 "cells": [
  {
   "cell_type": "code",
   "execution_count": 1,
   "metadata": {},
   "outputs": [],
   "source": [
    "import os\n",
    "os.environ[\"OMP_NUM_THREADS\"] = \"32\"\n",
    "from graph_tool.all import *\n",
    "import pandas as pd\n",
    "import numpy as np\n",
    "import scipy as sp\n",
    "from sklearn.covariance import LedoitWolf, OAS\n",
    "import matplotlib.pyplot as plt\n",
    "import matplotlib.cm as mpl\n",
    "import seaborn as sns\n",
    "import statsmodels.api as sm\n",
    "from multipy.fdr import qvalue\n",
    "from multipy.fdr import lsu\n",
    "\n",
    "import dill\n",
    "import sys"
   ]
  },
  {
   "cell_type": "code",
   "execution_count": 2,
   "metadata": {},
   "outputs": [
    {
     "name": "stdout",
     "output_type": "stream",
     "text": [
      "Current tissue is head\n",
      "Loading graphs...\n",
      "Reading gene expression data...\n",
      "Normalizing gene expression data...\n"
     ]
    }
   ],
   "source": [
    "current_tissue = 'head'\n",
    "print('Current tissue is ' + current_tissue)\n",
    "\n",
    "g_path = '../../SBM/snakemake/cache/trimmed_graph/fdr-1e-3/layered/'\n",
    "tissues = ['head', 'body']\n",
    "conditions = ['hs', 'ctrl']\n",
    "\n",
    "print('Loading graphs...')\n",
    "graphs = {f'{tissue}':load_graph(g_path + f'{tissue}.xml.gz') for tissue in tissues}\n",
    "\n",
    "for t in tissues:\n",
    "    remove_parallel_edges(graphs[t])\n",
    "\n",
    "print('Reading gene expression data...')\n",
    "data_dir = '/Genomics/argo/users/damelo/projects/HS-Expression-GxE/SBM/rawData/layered/' + current_tissue\n",
    "input_list = []\n",
    "for file in os.listdir(data_dir):\n",
    "    if file.endswith(\".tsv\"):\n",
    "        input_list.append(file)\n",
    "input_names = list(map(lambda p: p[:p.rfind('.')], input_list))\n",
    "gene_expr = []\n",
    "for file in input_list:\n",
    "    gene_expr_raw = pd.read_table(os.path.join(data_dir, file))\n",
    "    gene_expr.append(gene_expr_raw.T)\n",
    "\n",
    "gene_expr_concat = pd.concat([gene_expr[0], gene_expr[1]], \n",
    "                   axis=0, \n",
    "                   keys=input_names,\n",
    "                   names=['source']).reset_index(level=[0])\n",
    "\n",
    "# Extract source column\n",
    "source = gene_expr_concat['source']\n",
    "ge = gene_expr_concat.drop(columns=['source'])\n",
    "\n",
    "print('Normalizing gene expression data...')\n",
    "z_scores = (ge - ge.mean()) / np.sqrt(ge.var())\n",
    "\n",
    "# Model matrix\n",
    "X = pd.get_dummies(source, drop_first=True)\n",
    "X = np.column_stack((np.ones(X.shape[0]), X))\n"
   ]
  },
  {
   "cell_type": "code",
   "execution_count": 23,
   "metadata": {},
   "outputs": [
    {
     "data": {
      "text/html": [
       "<div>\n",
       "<style scoped>\n",
       "    .dataframe tbody tr th:only-of-type {\n",
       "        vertical-align: middle;\n",
       "    }\n",
       "\n",
       "    .dataframe tbody tr th {\n",
       "        vertical-align: top;\n",
       "    }\n",
       "\n",
       "    .dataframe thead th {\n",
       "        text-align: right;\n",
       "    }\n",
       "</style>\n",
       "<table border=\"1\" class=\"dataframe\">\n",
       "  <thead>\n",
       "    <tr style=\"text-align: right;\">\n",
       "      <th></th>\n",
       "      <th>Coef.</th>\n",
       "      <th>Std.Err.</th>\n",
       "      <th>t</th>\n",
       "      <th>P&gt;|t|</th>\n",
       "      <th>[0.025</th>\n",
       "      <th>0.975]</th>\n",
       "    </tr>\n",
       "  </thead>\n",
       "  <tbody>\n",
       "    <tr>\n",
       "      <th>const</th>\n",
       "      <td>-0.051863</td>\n",
       "      <td>0.043826</td>\n",
       "      <td>-1.183387</td>\n",
       "      <td>0.236788</td>\n",
       "      <td>-0.137810</td>\n",
       "      <td>0.034083</td>\n",
       "    </tr>\n",
       "    <tr>\n",
       "      <th>x1</th>\n",
       "      <td>-0.146445</td>\n",
       "      <td>0.059807</td>\n",
       "      <td>-2.448621</td>\n",
       "      <td>0.014420</td>\n",
       "      <td>-0.263731</td>\n",
       "      <td>-0.029159</td>\n",
       "    </tr>\n",
       "  </tbody>\n",
       "</table>\n",
       "</div>"
      ],
      "text/plain": [
       "          Coef.  Std.Err.         t     P>|t|    [0.025    0.975]\n",
       "const -0.051863  0.043826 -1.183387  0.236788 -0.137810  0.034083\n",
       "x1    -0.146445  0.059807 -2.448621  0.014420 -0.263731 -0.029159"
      ]
     },
     "execution_count": 23,
     "metadata": {},
     "output_type": "execute_result"
    }
   ],
   "source": [
    "g = graphs[current_tissue]\n",
    "genes = g.vp.genes\n",
    "e = find_edge(g, g.edge_index, 100)[0]\n",
    "v_i, v_j = e.source(), e.target()\n",
    "gene_i = genes[v_i]\n",
    "gene_j = genes[v_j]\n",
    "y = z_scores[gene_i] * z_scores[gene_j]\n",
    "mod = sm.OLS(y, X)\n",
    "fii = mod.fit()\n",
    "fii.summary2().tables[1]"
   ]
  },
  {
   "cell_type": "code",
   "execution_count": 24,
   "metadata": {},
   "outputs": [
    {
     "name": "stdout",
     "output_type": "stream",
     "text": [
      "-0.05186323444467911 -0.14644459434307644 0.014420412717631918 0.14644459434307644\n"
     ]
    }
   ],
   "source": [
    "intercept = fii.summary2().tables[1].iloc[0,0]\n",
    "coef = fii.summary2().tables[1].iloc[1,0]\n",
    "pvalue = fii.summary2().tables[1].iloc[1,3]\n",
    "print(intercept, coef, pvalue, abs(intercept + coef) - abs(intercept))"
   ]
  },
  {
   "cell_type": "code",
   "execution_count": null,
   "metadata": {},
   "outputs": [],
   "source": [
    "g = graphs[current_tissue]\n",
    "\n",
    "genes = g.vp.genes\n",
    "\n",
    "clip_a = g.new_ep(\"double\", 0)\n",
    "clip_b = g.new_ep(\"double\", 0)\n",
    "clip_p = g.new_ep(\"double\", 0)\n",
    "clip_shift = g.new_ep(\"double\", 0)\n",
    "\n",
    "print('Computing edge coefficients...')\n",
    "for e in g.edges():\n",
    "    v_i, v_j = e.source(), e.target()\n",
    "    gene_i = genes[v_i]\n",
    "    gene_j = genes[v_j]\n",
    "    y = z_scores[gene_i] * z_scores[gene_j]\n",
    "    mod = sm.OLS(y, X)\n",
    "    fii = mod.fit()\n",
    "    intercept = fii.summary2().tables[1].iloc[0,0]\n",
    "    coef = fii.summary2().tables[1].iloc[1,0]\n",
    "    pvalue = fii.summary2().tables[1].iloc[1,3]\n",
    "    zero_shift = abs(intercept + coef) - abs(intercept)\n",
    "\n",
    "    clip_a[e] = intercept\n",
    "    clip_b[e] = coef\n",
    "    clip_p[e] = pvalue\n",
    "    clip_shift[e] = zero_shift\n",
    "\n",
    "print('Creating edge properties...')\n",
    "g.edge_properties[\"clip_a\"] = clip_a\n",
    "g.edge_properties[\"clip_b\"] = clip_b\n",
    "g.edge_properties[\"clip_p\"] = clip_p\n",
    "g.edge_properties[\"clip_shift\"] = clip_shift\n",
    "\n",
    "print('Saving graph...')\n",
    "g.save('clip_g_' + current_tissue +  '.xml.gz')\n"
   ]
  }
 ],
 "metadata": {
  "kernelspec": {
   "display_name": "gt",
   "language": "python",
   "name": "python3"
  },
  "language_info": {
   "codemirror_mode": {
    "name": "ipython",
    "version": 3
   },
   "file_extension": ".py",
   "mimetype": "text/x-python",
   "name": "python",
   "nbconvert_exporter": "python",
   "pygments_lexer": "ipython3",
   "version": "3.11.6"
  }
 },
 "nbformat": 4,
 "nbformat_minor": 2
}
