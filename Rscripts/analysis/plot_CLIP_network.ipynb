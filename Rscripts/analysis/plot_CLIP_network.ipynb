{
 "cells": [
  {
   "cell_type": "code",
   "execution_count": 2,
   "metadata": {
    "metadata": {}
   },
   "outputs": [],
   "source": [
    "import os\n",
    "os.environ[\"OMP_NUM_THREADS\"] = \"32\"\n",
    "from graph_tool.all import *\n",
    "import pandas as pd\n",
    "import numpy as np\n",
    "import scipy as sp\n",
    "from sklearn.covariance import LedoitWolf, OAS\n",
    "import matplotlib.pyplot as plt\n",
    "import matplotlib.cm as mpl\n",
    "import seaborn as sns\n",
    "import statsmodels.api as sm\n",
    "from multipy.fdr import qvalue\n",
    "from multipy.fdr import lsu\n",
    "\n",
    "import dill"
   ]
  },
  {
   "cell_type": "code",
   "execution_count": 3,
   "metadata": {
    "metadata": {}
   },
   "outputs": [],
   "source": [
    "# Loading blocks...\n",
    "def load_blocks(blocks):\n",
    "    with open (blocks, \"rb\") as fh:\n",
    "        bs = dill.load(fh)[0:6]\n",
    "    return bs\n",
    "\n",
    "def filterByFDR(g, level, pval, keepOnlyMain=False):\n",
    "    # Filtering edges\n",
    "    pvals = np.array(g.edge_properties[pval].a)\n",
    "\n",
    "    fdr_ep = g.new_ep(\"bool\", True)\n",
    "    fdr_ep.a = lsu(pvals, q=level)\n",
    "\n",
    "    tv = GraphView(g, efilt=fdr_ep)\n",
    "\n",
    "    # Keeping largest component\n",
    "    if keepOnlyMain:\n",
    "        comp, hist = label_components(tv)\n",
    "        main_component = tv.new_vp(\"bool\", (comp.a == np.where(hist == max(hist))[0][0]))\n",
    "        tv.vertex_properties[\"main_component\"] = main_component\n",
    "        tv.set_vertex_filter(main_component)\n",
    "    return tv\n",
    "\n",
    "def filterBySign(g, ep, positive = True, keepOnlyMain = False):\n",
    "    # Filtering edges\n",
    "    corr = g.edge_properties[ep]\n",
    "    sign = g.new_ep(\"bool\", True)\n",
    "    if positive:\n",
    "        sign.a = np.array(corr.a > 0)\n",
    "    else:\n",
    "        sign.a = np.array(corr.a < 0)    \n",
    "\n",
    "    tv = GraphView(g, efilt=sign)\n",
    "\n",
    "    # Keeping largest component\n",
    "    if keepOnlyMain:\n",
    "        comp, hist = label_components(tv)\n",
    "        main_component = tv.new_vp(\"bool\", (comp.a == np.where(hist == max(hist))[0][0]))\n",
    "        tv.vertex_properties[\"main_component\"] = main_component\n",
    "        tv.set_vertex_filter(main_component)\n",
    "    return tv\n",
    "    \n",
    "# For each unique element in x, find its first apperance in x\n",
    "def first_occurrence(x):\n",
    "    _, idx = np.unique(x, return_index=True)\n",
    "    return idx\n",
    "\n",
    "def labelVertices(state):\n",
    "    g = state.g\n",
    "    g.vp.level_0 = g.new_vertex_property(\"double\", state.get_bs()[0])\n",
    "    first = first_occurrence(np.array([g.vp.level_0.a]))\n",
    "    state.g.vp.labels = g.new_vp(\"string\", [str(int(x)) if i in first else \"\" for i, x in enumerate(g.vp.level_0.a)])\n",
    "    return state"
   ]
  },
  {
   "cell_type": "code",
   "execution_count": 4,
   "metadata": {
    "metadata": {}
   },
   "outputs": [],
   "source": [
    "g_path = '../../SBM/snakemake/cache/trimmed_graph/fdr-1e-3/layered/'\n",
    "tissues = ['head', 'body']\n",
    "conditions = ['hs', 'ctrl']\n",
    "labels = [f'{tissue}-{condition}' for tissue in tissues for condition in conditions]\n",
    "# graphs = {f'{tissue}':load_graph(g_path + f'{tissue}.xml.gz') for tissue in tissues}\n",
    "b_path = '../../SBM/snakemake/cache/MCMC/blocks/fdr-1e-3/layered/'\n",
    "blocks = {f'{tissue}':load_blocks(b_path + f'{tissue}.dill') for tissue in tissues}\n",
    "# Read cond graphs\n",
    "cond_path = '../../cache/'\n",
    "cond_graphs = {f'{tissue}-{condition}':load_graph(cond_path + f'cond_graph-{tissue}-{condition}.xml.gz') for tissue in tissues for condition in conditions}\n",
    "# Read clip graphs\n",
    "clip_path = '../../cache/'\n",
    "clip_graphs = {f'{tissue}':load_graph(clip_path + f'clip_g_{tissue}.xml.gz') for tissue in tissues}"
   ]
  },
  {
   "cell_type": "code",
   "execution_count": 5,
   "metadata": {
    "metadata": {}
   },
   "outputs": [],
   "source": [
    "def makeClipGraph (current_tissue, clip_fdr, pos, n_edges = 50000, make_plots = False):\n",
    "\n",
    "    # output path\n",
    "    output_path = \"../../tmp/clip/\" + \"fdr-\" + str(clip_fdr) + \"/\" + current_tissue + \"-nEdges_\" + str(n_edges) \n",
    "    # create output directory\n",
    "    os.makedirs(os.path.dirname(output_path), exist_ok=True)\n",
    "\n",
    "    g_clip = clip_graphs[current_tissue]\n",
    "    gNeg= filterByFDR(g_clip, clip_fdr, 'clip_p')\n",
    "    gNeg = Graph(gNeg, prune=True)\n",
    "    gNeg = filterBySign(gNeg, 'clip_shift', positive = False)\n",
    "    gNeg = Graph(gNeg, prune=True)\n",
    "    gNeg.ep.clip_shift.a = np.abs(gNeg.ep.clip_shift.a)\n",
    "    gNeg.vp.pos = gNeg.copy_property(pos)\n",
    "\n",
    "    bs = blocks[current_tissue]\n",
    "\n",
    "    s_Neg = NestedBlockState(gNeg, bs=bs,\n",
    "                             state_args=dict(recs=[gNeg.ep.clip_shift],\n",
    "                                             rec_types=[\"real-normal\"]))\n",
    "    labelVertices(s_Neg)\n",
    "    if make_plots:\n",
    "        s_Neg.draw(eorder=gNeg.ep.clip_shift,\n",
    "                    pos = gNeg.vp.pos, \n",
    "                    edge_color=prop_to_size(gNeg.ep.clip_shift, mi=0, ma=1, power=1, log=False),\n",
    "                    ecmap=(mpl.inferno, .6), \n",
    "                    edge_gradient=[], \n",
    "                    vertex_size = 10,\n",
    "                    vertex_text = s_Neg.g.vp.labels,\n",
    "                    vertex_text_position='centered',\n",
    "                    hvertex_size = 25,\n",
    "                    hedge_pen_width = 3,\n",
    "                    subsample_edges = n_edges,\n",
    "                    output = output_path + \"-decohere.png\", \n",
    "                    output_size=(2000, 2000))\n",
    "\n",
    "    g_clip = clip_graphs[current_tissue]\n",
    "    gPos = filterByFDR(g_clip, clip_fdr, 'clip_p')\n",
    "    gPos = Graph(gPos, prune=True)\n",
    "    gPos = filterBySign(gPos, 'clip_shift', positive = True)\n",
    "    gPos = Graph(gPos, prune=True)\n",
    "    gPos.vp.pos = gPos.copy_property(pos)\n",
    "\n",
    "    bs = blocks[current_tissue]\n",
    "    s_Pos = NestedBlockState(gPos, bs=bs,\n",
    "                            state_args=dict(recs=[gPos.ep.clip_shift],\n",
    "                                            rec_types=[\"real-normal\"]))\n",
    "    labelVertices(s_Pos)\n",
    "    if make_plots:\n",
    "        s_Pos.draw( eorder=gPos.ep.clip_shift,\n",
    "                    pos = gPos.vp.pos, \n",
    "                    edge_color=prop_to_size(gPos.ep.clip_shift, mi=0, ma=1, power=1, log=False),\n",
    "                    ecmap=(mpl.inferno, .6), \n",
    "                    edge_gradient=[], \n",
    "                    vertex_size = 10,\n",
    "                    vertex_text = s_Pos.g.vp.labels,\n",
    "                    vertex_text_position='centered',\n",
    "                    hvertex_size = 25,\n",
    "                    hedge_pen_width = 3,\n",
    "                    subsample_edges = n_edges,\n",
    "                    output = output_path + \"-integrate.png\", \n",
    "                    output_size=(2000, 2000))\n",
    "    return {\"decohere\": s_Neg, \"integrate\": s_Pos}\n"
   ]
  },
  {
   "cell_type": "code",
   "execution_count": 6,
   "metadata": {
    "metadata": {}
   },
   "outputs": [
    {
     "name": "stdout",
     "output_type": "stream",
     "text": [
      "Tissue: head\n",
      "Making clip graphs for FDR 0.1\n",
      "Making clip graphs for FDR 0.01\n"
     ]
    },
    {
     "name": "stdout",
     "output_type": "stream",
     "text": [
      "Making clip graphs for FDR 0.001\n",
      "Making clip graphs for FDR 0.0001\n",
      "Tissue: body\n",
      "Making clip graphs for FDR 0.1\n",
      "Making clip graphs for FDR 0.01\n",
      "Making clip graphs for FDR 0.001\n",
      "Making clip graphs for FDR 0.0001\n"
     ]
    }
   ],
   "source": [
    "# Make clip graphs for various FDRs\n",
    "fdrs = [1e-1, 1e-2, 1e-3, 1e-4]\n",
    "n_edges = 50000\n",
    "clip_state = {}\n",
    "for tissue in tissues:\n",
    "    print(f\"Tissue: {tissue}\")\n",
    "    clip_state[tissue] = {}\n",
    "    for fdr in fdrs:\n",
    "        print(f\"Making clip graphs for FDR {fdr}\")\n",
    "        l = tissue + '-ctrl'\n",
    "        clip_state[tissue][fdr] = makeClipGraph(tissue, fdr, cond_graphs[l].vp.pos, n_edges, False)"
   ]
  },
  {
   "cell_type": "code",
   "execution_count": 13,
   "metadata": {
    "metadata": {}
   },
   "outputs": [],
   "source": [
    "def create_nestedBlock_df(g, corr, state):\n",
    "    genes = g.vertex_properties[\"genes\"]\n",
    "    nested_block_df = pd.DataFrame(columns=('Gene', \"Degree\", \"Average\", 'Sum', 'B1', \"B2\", \"B3\", \"B4\", \"B5\", \"B6\"))\n",
    "    for v in g.vertex_index:\n",
    "        line = [genes[v]]\n",
    "        line.append(g.get_total_degrees([v])[0])\n",
    "        line.append(np.mean(g.get_all_edges(v, [corr] )[:,2]))\n",
    "        line.append(np.sum(g.get_all_edges(v, [corr] )[:,2]))\n",
    "        [line.append(i) for i in get_group(v, state)]\n",
    "        nested_block_df.loc[v] = line\n",
    "    nested_block_df = nested_block_df[nested_block_df.Degree > 0]\n",
    "    # Sort by Degree, Sum and Average\n",
    "    nested_block_df = nested_block_df.sort_values(by=['Degree', 'Sum', 'Average'], ascending=False)\n",
    "    return nested_block_df\n",
    "def get_group(x, state):\n",
    "    levels = state.get_levels()\n",
    "    n_levels = len(levels)\n",
    "    r = np.zeros(n_levels)\n",
    "    r[0] = levels[0].get_blocks()[x]\n",
    "    for i in range(1, n_levels):\n",
    "        r[i] = levels[i].get_blocks()[r[i-1]]\n",
    "    r = r.astype(int)\n",
    "    return r"
   ]
  },
  {
   "cell_type": "code",
   "execution_count": null,
   "metadata": {
    "metadata": {}
   },
   "outputs": [],
   "source": [
    "for t in tissues:\n",
    "    decohere_df = create_nestedBlock_df(clip_state[t][1e-2]['decohere'].g, \n",
    "                                        clip_state[t][1e-2]['decohere'].g.ep.clip_shift, \n",
    "                                        clip_state[t][1e-2]['decohere'])\n",
    "    integrate_df = create_nestedBlock_df(clip_state[t][1e-2]['integrate'].g, \n",
    "                                         clip_state[t][1e-2]['integrate'].g.ep.clip_shift, \n",
    "                                         clip_state[t][1e-2]['integrate'])\n",
    "    merge = pd.merge(decohere_df, integrate_df, on='Gene', suffixes=('_decohere', '_integrate'))\n",
    "    clip_Df = pd.concat([decohere_df, integrate_df],\n",
    "                    axis=0, \n",
    "                    keys=['decohere', 'integrate'],\n",
    "                    names=['direction']).reset_index(level=[0])\n",
    "    # Write df to file\n",
    "    clip_Df.to_csv(\"../../cache/\" + f'clip_fdr-1e2_{t}.csv', sep=\"\\t\", quoting=csv.QUOTE_NONE)"
   ]
  },
  {
   "cell_type": "code",
   "execution_count": null,
   "metadata": {
    "metadata": {}
   },
   "outputs": [],
   "source": [
    "genes = g.vertex_properties[\"genes\"]\n",
    "nested_block_df = pd.DataFrame(columns=('Gene', \"Degree\", \"E_corr\", 'B1', \"B2\", \"B3\", \"B4\", \"B5\", \"B6\"))\n",
    "for v in g.vertex_index:\n",
    "    line = [genes[v]]\n",
    "    line.append(g.get_total_degrees([v])[0])\n",
    "    line.append(np.mean(np.abs(g.get_all_edges(v, [corr] )[:,2])))\n",
    "    [line.append(i) for i in get_group(v, state)]\n",
    "    nested_block_df.loc[v] = line\n",
    "# filter Degree = zero\n",
    "#nested_block_df = nested_block_df[nested_block_df.Degree > 0]\n",
    "# sort by Degree and E_corr\n",
    "nested_block_df = nested_block_df.sort_values(by=['Degree', 'E_corr'], ascending=False)\n",
    "nested_block_df"
   ]
  },
  {
   "cell_type": "code",
   "execution_count": 49,
   "metadata": {
    "metadata": {}
   },
   "outputs": [],
   "source": [
    "\n",
    "state = NestedBlockState(gNeg, bs=bs,\n",
    "                        state_args=dict(recs=[gNeg.ep.clip_b],\n",
    "                                        rec_types=[\"real-normal\"]))\n",
    "labelVertices(state)\n",
    "pos, t, tpos = state.draw(eorder=state.g.ep.clip_b,\n",
    "                        edge_color=prop_to_size(state.g.ep.clip_b, mi=0, ma=1, power=1, log=False),\n",
    "                        ecmap=(mpl.inferno, .6), \n",
    "                        edge_gradient=[], \n",
    "                        vertex_size = 10,\n",
    "                        vertex_text = state.g.vp.labels,\n",
    "                        vertex_text_position='centered',\n",
    "                        hvertex_size = 25,\n",
    "                        hvertex_text = state.g.vp.labels,\n",
    "                        hedge_pen_width = 3,\n",
    "                        subsample_edges = 1000, \n",
    "                        output = \"../../tmp/test.png\", \n",
    "                        output_size=(2000, 2000))"
   ]
  },
  {
   "cell_type": "code",
   "execution_count": 20,
   "metadata": {},
   "outputs": [],
   "source": [
    "E_folder = \"../../tmp/clip/Ematrices\"\n",
    "for fdr in fdrs: \n",
    "    for t in tissues:\n",
    "        out_folder = E_folder + \"/\" + f'fdr-{fdr}' + \"/\" + t + \"/\"\n",
    "        os.makedirs(os.path.dirname(out_folder), exist_ok=True)\n",
    "        for d in ['decohere', 'integrate']:\n",
    "            state = clip_state[t][fdr][d]\n",
    "            for i in range(5):\n",
    "                B = state.get_levels()[i].get_nonempty_B()\n",
    "                e_mat = state.get_levels()[i].get_matrix().todense()\n",
    "                output_file = out_folder + f'{d}' + \"_E_matrix_level\" + str(i) + \".csv\"\n",
    "                pd.DataFrame(e_mat).to_csv(output_file)"
   ]
  }
 ],
 "metadata": {
  "kernelspec": {
   "display_name": "gt",
   "language": "python",
   "name": "python3"
  },
  "language_info": {
   "codemirror_mode": {
    "name": "ipython",
    "version": 3
   },
   "file_extension": ".py",
   "mimetype": "text/x-python",
   "name": "python",
   "nbconvert_exporter": "python",
   "pygments_lexer": "ipython3",
   "version": "3.11.6"
  }
 },
 "nbformat": 4,
 "nbformat_minor": 2
}
