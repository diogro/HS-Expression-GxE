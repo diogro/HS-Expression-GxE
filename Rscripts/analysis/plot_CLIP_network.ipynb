{
 "cells": [
  {
   "cell_type": "code",
   "execution_count": 7,
   "metadata": {
    "metadata": {}
   },
   "outputs": [],
   "source": [
    "import os\n",
    "os.environ[\"OMP_NUM_THREADS\"] = \"32\"\n",
    "from graph_tool.all import *\n",
    "import pandas as pd\n",
    "import numpy as np\n",
    "import scipy as sp\n",
    "from sklearn.covariance import LedoitWolf, OAS\n",
    "import matplotlib.pyplot as plt\n",
    "import matplotlib.cm as mpl\n",
    "import seaborn as sns\n",
    "import statsmodels.api as sm\n",
    "from multipy.fdr import qvalue\n",
    "from multipy.fdr import lsu\n",
    "\n",
    "import dill"
   ]
  },
  {
   "cell_type": "code",
   "execution_count": 8,
   "metadata": {
    "metadata": {}
   },
   "outputs": [],
   "source": [
    "# Loading blocks...\n",
    "def load_blocks(blocks):\n",
    "    with open (blocks, \"rb\") as fh:\n",
    "        bs = dill.load(fh)[0:6]\n",
    "    return bs\n",
    "\n",
    "def filterByFDR(g, level, pval, keepOnlyMain=False):\n",
    "    # Filtering edges\n",
    "    pvals = np.array(g.edge_properties[pval].a)\n",
    "\n",
    "    fdr_ep = g.new_ep(\"bool\", True)\n",
    "    fdr_ep.a = lsu(pvals, q=level)\n",
    "\n",
    "    tv = GraphView(g, efilt=fdr_ep)\n",
    "\n",
    "    # Keeping largest component\n",
    "    if keepOnlyMain:\n",
    "        comp, hist = label_components(tv)\n",
    "        main_component = tv.new_vp(\"bool\", (comp.a == np.where(hist == max(hist))[0][0]))\n",
    "        tv.vertex_properties[\"main_component\"] = main_component\n",
    "        tv.set_vertex_filter(main_component)\n",
    "    return tv\n",
    "\n",
    "def filterBySign(g, ep, positive = True, keepOnlyMain = False):\n",
    "    # Filtering edges\n",
    "    corr = g.edge_properties[ep]\n",
    "    sign = g.new_ep(\"bool\", True)\n",
    "    if positive:\n",
    "        sign.a = np.array(corr.a > 0)\n",
    "    else:\n",
    "        sign.a = np.array(corr.a < 0)    \n",
    "\n",
    "    tv = GraphView(g, efilt=sign)\n",
    "\n",
    "    # Keeping largest component\n",
    "    if keepOnlyMain:\n",
    "        comp, hist = label_components(tv)\n",
    "        main_component = tv.new_vp(\"bool\", (comp.a == np.where(hist == max(hist))[0][0]))\n",
    "        tv.vertex_properties[\"main_component\"] = main_component\n",
    "        tv.set_vertex_filter(main_component)\n",
    "    return tv\n",
    "    \n",
    "# For each unique element in x, find its first apperance in x\n",
    "def first_occurrence(x):\n",
    "    _, idx = np.unique(x, return_index=True)\n",
    "    return idx\n",
    "\n",
    "def labelVertices(state):\n",
    "    g = state.g\n",
    "    g.vp.level_0 = g.new_vertex_property(\"double\", state.get_bs()[0])\n",
    "    first = first_occurrence(np.array([g.vp.level_0.a]))\n",
    "    state.g.vp.labels = g.new_vp(\"string\", [str(int(x)) if i in first else \"\" for i, x in enumerate(g.vp.level_0.a)])\n",
    "    return state"
   ]
  },
  {
   "cell_type": "code",
   "execution_count": 9,
   "metadata": {
    "metadata": {}
   },
   "outputs": [],
   "source": [
    "g_path = '../../SBM/snakemake/cache/trimmed_graph/fdr-1e-3/layered/'\n",
    "tissues = ['head', 'body']\n",
    "conditions = ['hs', 'ctrl']\n",
    "labels = [f'{tissue}-{condition}' for tissue in tissues for condition in conditions]\n",
    "# graphs = {f'{tissue}':load_graph(g_path + f'{tissue}.xml.gz') for tissue in tissues}\n",
    "b_path = '../../SBM/snakemake/cache/MCMC/blocks/fdr-1e-3/layered/'\n",
    "blocks = {f'{tissue}':load_blocks(b_path + f'{tissue}.dill') for tissue in tissues}\n",
    "# Read cond graphs\n",
    "cond_path = '../../cache/'\n",
    "cond_graphs = {f'{tissue}-{condition}':load_graph(cond_path + f'cond_graph-{tissue}-{condition}.xml.gz') for tissue in tissues for condition in conditions}\n",
    "\n",
    "# Read clip graphs\n",
    "clip_path = '../../cache/clip/'\n",
    "clip_graphs = {f'{tissue}':load_graph(clip_path + f'clip_g_{tissue}.xml.gz') for tissue in tissues}"
   ]
  },
  {
   "cell_type": "code",
   "execution_count": 10,
   "metadata": {
    "metadata": {}
   },
   "outputs": [],
   "source": [
    "def makeClipGraph (current_tissue, clip_fdr, pos, n_edges = 50000, make_plots = False):\n",
    "\n",
    "    # output path\n",
    "    output_path = \"../../tmp/clip/\" + \"fdr-\" + str(clip_fdr) + \"/\" + current_tissue + \"-nEdges_\" + str(n_edges) \n",
    "    # create output directory\n",
    "    os.makedirs(os.path.dirname(output_path), exist_ok=True)\n",
    "\n",
    "    g_clip = clip_graphs[current_tissue]\n",
    "    gNeg= filterByFDR(g_clip, clip_fdr, 'clip_p')\n",
    "    gNeg = Graph(gNeg, prune=True)\n",
    "    gNeg = filterBySign(gNeg, 'clip_shift', positive = False)\n",
    "    gNeg = Graph(gNeg, prune=True)\n",
    "    gNeg.ep.clip_shift.a = np.abs(gNeg.ep.clip_shift.a)\n",
    "    gNeg.vp.pos = gNeg.copy_property(pos)\n",
    "\n",
    "    bs = blocks[current_tissue]\n",
    "\n",
    "    s_Neg = NestedBlockState(gNeg, bs=bs,\n",
    "                             state_args=dict(recs=[gNeg.ep.clip_shift],\n",
    "                                             rec_types=[\"real-normal\"]))\n",
    "    labelVertices(s_Neg)\n",
    "    if make_plots:\n",
    "        s_Neg.draw(eorder=gNeg.ep.clip_shift,\n",
    "                    pos = gNeg.vp.pos, \n",
    "                    edge_color=prop_to_size(gNeg.ep.clip_shift, mi=0, ma=1, power=1, log=False),\n",
    "                    ecmap=(mpl.inferno, .6), \n",
    "                    edge_gradient=[], \n",
    "                    vertex_size = 10,\n",
    "                    vertex_text = s_Neg.g.vp.labels,\n",
    "                    vertex_text_position='centered',\n",
    "                    hvertex_size = 25,\n",
    "                    hedge_pen_width = 3,\n",
    "                    subsample_edges = n_edges,\n",
    "                    output = output_path + \"-decohere.png\", \n",
    "                    output_size=(2000, 2000))\n",
    "\n",
    "    g_clip = clip_graphs[current_tissue]\n",
    "    gPos = filterByFDR(g_clip, clip_fdr, 'clip_p')\n",
    "    gPos = Graph(gPos, prune=True)\n",
    "    gPos = filterBySign(gPos, 'clip_shift', positive = True)\n",
    "    gPos = Graph(gPos, prune=True)\n",
    "    gPos.vp.pos = gPos.copy_property(pos)\n",
    "\n",
    "    bs = blocks[current_tissue]\n",
    "    s_Pos = NestedBlockState(gPos, bs=bs,\n",
    "                            state_args=dict(recs=[gPos.ep.clip_shift],\n",
    "                                            rec_types=[\"real-normal\"]))\n",
    "    labelVertices(s_Pos)\n",
    "    if make_plots:\n",
    "        s_Pos.draw( eorder=gPos.ep.clip_shift,\n",
    "                    pos = gPos.vp.pos, \n",
    "                    edge_color=prop_to_size(gPos.ep.clip_shift, mi=0, ma=1, power=1, log=False),\n",
    "                    ecmap=(mpl.inferno, .6), \n",
    "                    edge_gradient=[], \n",
    "                    vertex_size = 10,\n",
    "                    vertex_text = s_Pos.g.vp.labels,\n",
    "                    vertex_text_position='centered',\n",
    "                    hvertex_size = 25,\n",
    "                    hedge_pen_width = 3,\n",
    "                    subsample_edges = n_edges,\n",
    "                    output = output_path + \"-integrate.png\", \n",
    "                    output_size=(2000, 2000))\n",
    "    return {\"decohere\": s_Neg, \"integrate\": s_Pos}\n"
   ]
  },
  {
   "cell_type": "code",
   "execution_count": 11,
   "metadata": {
    "metadata": {}
   },
   "outputs": [
    {
     "name": "stdout",
     "output_type": "stream",
     "text": [
      "Tissue: head\n",
      "Making clip graphs for FDR 0.1\n",
      "Making clip graphs for FDR 0.01\n",
      "Making clip graphs for FDR 0.001\n",
      "Making clip graphs for FDR 0.0001\n",
      "Tissue: body\n",
      "Making clip graphs for FDR 0.1\n",
      "Making clip graphs for FDR 0.01\n",
      "Making clip graphs for FDR 0.001\n",
      "Making clip graphs for FDR 0.0001\n"
     ]
    }
   ],
   "source": [
    "# Make clip graphs for various FDRs\n",
    "fdrs = [1e-1, 1e-2, 1e-3, 1e-4]\n",
    "n_edges = 50000\n",
    "clip_state = {}\n",
    "for tissue in tissues:\n",
    "    print(f\"Tissue: {tissue}\")\n",
    "    clip_state[tissue] = {}\n",
    "    for fdr in fdrs:\n",
    "        print(f\"Making clip graphs for FDR {fdr}\")\n",
    "        l = tissue + '-ctrl'\n",
    "        clip_state[tissue][fdr] = makeClipGraph(tissue, fdr, cond_graphs[l].vp.pos, n_edges, False)"
   ]
  },
  {
   "cell_type": "code",
   "execution_count": 20,
   "metadata": {},
   "outputs": [],
   "source": [
    "E_folder = \"../../tmp/clip/Ematrices\"\n",
    "for fdr in fdrs: \n",
    "    for t in tissues:\n",
    "        out_folder = E_folder + \"/\" + f'fdr-{fdr}' + \"/\" + t + \"/\"\n",
    "        os.makedirs(os.path.dirname(out_folder), exist_ok=True)\n",
    "        for d in ['decohere', 'integrate']:\n",
    "            state = clip_state[t][fdr][d]\n",
    "            for i in range(5):\n",
    "                B = state.get_levels()[i].get_nonempty_B()\n",
    "                e_mat = state.get_levels()[i].get_matrix().todense()\n",
    "                output_file = out_folder + f'{d}' + \"_E_matrix_level\" + str(i) + \".csv\"\n",
    "                pd.DataFrame(e_mat).to_csv(output_file)"
   ]
  },
  {
   "cell_type": "code",
   "execution_count": 29,
   "metadata": {},
   "outputs": [],
   "source": [
    "g = clip_graphs['head']\n",
    "genes = g.vp.genes\n",
    "# write lines to file\n",
    "with open('../../cache/long_clip.csv', 'w') as file:\n",
    "    file.write('Gene1,Gene2,shift,pval\\n')\n",
    "    for e in g.edges():\n",
    "        line = f'{genes[e.source()]},{genes[e.target()]},{g.ep.clip_shift[e]},{g.ep.clip_p[e]}\\n'\n",
    "        file.write(line)"
   ]
  }
 ],
 "metadata": {
  "kernelspec": {
   "display_name": "Python 3 (ipykernel)",
   "language": "python",
   "name": "python3"
  },
  "language_info": {
   "codemirror_mode": {
    "name": "ipython",
    "version": 3
   },
   "file_extension": ".py",
   "mimetype": "text/x-python",
   "name": "python",
   "nbconvert_exporter": "python",
   "pygments_lexer": "ipython3",
   "version": "3.12.2"
  }
 },
 "nbformat": 4,
 "nbformat_minor": 4
}
