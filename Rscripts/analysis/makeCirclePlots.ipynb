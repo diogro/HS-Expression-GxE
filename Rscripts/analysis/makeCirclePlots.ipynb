{
 "cells": [
  {
   "cell_type": "code",
   "execution_count": 1,
   "metadata": {},
   "outputs": [],
   "source": [
    "\n",
    "import os\n",
    "os.environ[\"OMP_NUM_THREADS\"] = \"32\"\n",
    "from graph_tool.all import *\n",
    "import pandas as pd\n",
    "import numpy as np\n",
    "import scipy as sp\n",
    "from sklearn.covariance import LedoitWolf, OAS\n",
    "import matplotlib.pyplot as plt\n",
    "import matplotlib.cm as mpl\n",
    "import seaborn as sns\n",
    "import statsmodels.api as sm\n",
    "from multipy.fdr import qvalue\n",
    "from multipy.fdr import lsu\n",
    "\n",
    "import dill"
   ]
  },
  {
   "cell_type": "code",
   "execution_count": 2,
   "metadata": {},
   "outputs": [],
   "source": [
    "# Loading blocks...\n",
    "def load_blocks(blocks):\n",
    "    with open (blocks, \"rb\") as fh:\n",
    "        bs = dill.load(fh)[0:6]\n",
    "    return bs"
   ]
  },
  {
   "cell_type": "code",
   "execution_count": null,
   "metadata": {},
   "outputs": [],
   "source": [
    "g_path = '../snakemake-layer/cache/trimmed_graph/fdr-1e-3/layered/'\n",
    "tissues = ['head', 'body']\n",
    "graphs = {f'{tissue}':load_graph(g_path + f'{tissue}.xml.gz') for tissue in tissues}\n",
    "b_path = '../snakemake-layer/cache/MCMC/blocks/fdr-1e-3/layered/'\n",
    "blocks = {f'{tissue}':load_blocks(b_path + f'{tissue}.dill') for tissue in tissues}"
   ]
  },
  {
   "cell_type": "code",
   "execution_count": 9,
   "metadata": {},
   "outputs": [],
   "source": [
    "state = {}\n",
    "for l in tissues:\n",
    "    g = graphs[l]\n",
    "    bs = blocks[l]\n",
    "    # Arctan transform on correlations...\n",
    "    corr = g.edge_properties[\"spearman\"]\n",
    "    g.ep.weight = g.new_edge_property(\"double\", (2*np.arctanh(corr.a)))\n",
    "\n",
    "    # Creating nested block model...\n",
    "    state[l] = minimize_nested_blockmodel_dl(g, init_bs=bs,\n",
    "                                             state_args=dict(base_type=LayeredBlockState,\n",
    "                                                             ec=g.ep.layer,layers=True,\n",
    "                                                             recs=[g.ep.weight],\n",
    "                                                             rec_types=[\"real-normal\"]))\n"
   ]
  },
  {
   "cell_type": "code",
   "execution_count": null,
   "metadata": {},
   "outputs": [],
   "source": [
    "for l in tissues:\n",
    "    s = state[l]\n",
    "    g = graphs[l]\n",
    "    g.vp.level_0 = g.new_vertex_property(\"double\", s.get_bs()[0])\n",
    "    s.draw( eorder=g.ep.weight,\n",
    "            #edge_pen_width = gf_body.ep.weight,\n",
    "            edge_color=prop_to_size(g.ep.weight, mi=-4, ma=4, power=1, log=False),\n",
    "            ecmap=(mpl.inferno, .6), \n",
    "            edge_gradient=[], \n",
    "            vertex_size = 4,\n",
    "            hvertex_size = 25,\n",
    "            hedge_pen_width = 3,\n",
    "            vertex_color = g.vp.level_0,\n",
    "            vertex_fill_color = g.vp.level_0,\n",
    "            subsample_edges = 30000,\n",
    "            output = l + \".png\", \n",
    "            output_size=(2000, 2000))"
   ]
  }
 ],
 "metadata": {
  "kernelspec": {
   "display_name": "gt",
   "language": "python",
   "name": "python3"
  },
  "language_info": {
   "codemirror_mode": {
    "name": "ipython",
    "version": 3
   },
   "file_extension": ".py",
   "mimetype": "text/x-python",
   "name": "python",
   "nbconvert_exporter": "python",
   "pygments_lexer": "ipython3",
   "version": "3.11.6"
  }
 },
 "nbformat": 4,
 "nbformat_minor": 2
}
