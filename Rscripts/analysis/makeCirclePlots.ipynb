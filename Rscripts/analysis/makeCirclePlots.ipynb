{
 "cells": [
  {
   "cell_type": "code",
   "execution_count": 1,
   "metadata": {},
   "outputs": [],
   "source": [
    "\n",
    "import os\n",
    "os.environ[\"OMP_NUM_THREADS\"] = \"32\"\n",
    "from graph_tool.all import *\n",
    "import pandas as pd\n",
    "import numpy as np\n",
    "import scipy as sp\n",
    "from sklearn.covariance import LedoitWolf, OAS\n",
    "import matplotlib.pyplot as plt\n",
    "import matplotlib.cm as mpl\n",
    "import seaborn as sns\n",
    "import statsmodels.api as sm\n",
    "from multipy.fdr import qvalue\n",
    "from multipy.fdr import lsu\n",
    "\n",
    "import dill"
   ]
  },
  {
   "cell_type": "code",
   "execution_count": 2,
   "metadata": {},
   "outputs": [],
   "source": [
    "# Loading blocks...\n",
    "def load_blocks(blocks):\n",
    "    with open (blocks, \"rb\") as fh:\n",
    "        bs = dill.load(fh)[0:6]\n",
    "    return bs"
   ]
  },
  {
   "cell_type": "code",
   "execution_count": 10,
   "metadata": {},
   "outputs": [],
   "source": [
    "g_path = '../../SBM/snakemake-layer/cache/trimmed_graph/fdr-1e-3/layered/'\n",
    "tissues = ['head', 'body']\n",
    "conditions = ['hs', 'ctrl']\n",
    "graphs = {f'{tissue}':load_graph(g_path + f'{tissue}.xml.gz') for tissue in tissues}\n",
    "b_path = '../../SBM/snakemake-layer/cache/MCMC/blocks/fdr-1e-3/layered/'\n",
    "blocks = {f'{tissue}':load_blocks(b_path + f'{tissue}.dill') for tissue in tissues}\n",
    "\n",
    "labels = [f'{tissue}-{condition}' for tissue in tissues for condition in conditions]"
   ]
  },
  {
   "cell_type": "code",
   "execution_count": 26,
   "metadata": {},
   "outputs": [
    {
     "data": {
      "text/plain": [
       "<Graph object, undirected, with 6826 vertices and 5097528 edges, 2 internal vertex properties, 5 internal edge properties, at 0x7f46fcb442d0>"
      ]
     },
     "execution_count": 26,
     "metadata": {},
     "output_type": "execute_result"
    }
   ],
   "source": [
    "g = graphs['head']\n",
    "c = \"ctrl\"\n",
    "ds = g.ep.dataset\n",
    "u = GraphView(g, efilt=lambda e: ds[e] == c)\n",
    "u = Graph(u, prune=True)\n",
    "u"
   ]
  },
  {
   "cell_type": "code",
   "execution_count": 28,
   "metadata": {},
   "outputs": [],
   "source": [
    "cond_graphs = {}\n",
    "for t in tissues:\n",
    "    g = graphs[t]\n",
    "    ds = g.ep.dataset\n",
    "    for c in conditions:\n",
    "        l = f'{t}-{c}'\n",
    "        print(l)\n",
    "        u = GraphView(g, efilt=lambda e: ds[e] == c)\n",
    "        u = Graph(u, prune=True)  \n",
    "        cond_graphs[l] = u  "
   ]
  },
  {
   "cell_type": "code",
   "execution_count": 29,
   "metadata": {},
   "outputs": [
    {
     "data": {
      "text/plain": [
       "{'head-hs': <Graph object, undirected, with 6826 vertices and 4767735 edges, 2 internal vertex properties, 5 internal edge properties, at 0x7f46fc95be10>,\n",
       " 'head-ctrl': <Graph object, undirected, with 6826 vertices and 5097528 edges, 2 internal vertex properties, 5 internal edge properties, at 0x7f46fc959190>,\n",
       " 'body-hs': <Graph object, undirected, with 6575 vertices and 1303683 edges, 2 internal vertex properties, 5 internal edge properties, at 0x7f46fc98d9d0>,\n",
       " 'body-ctrl': <Graph object, undirected, with 6575 vertices and 2924794 edges, 2 internal vertex properties, 5 internal edge properties, at 0x7f46ed716b50>}"
      ]
     },
     "execution_count": 29,
     "metadata": {},
     "output_type": "execute_result"
    }
   ],
   "source": [
    "cond_graphs"
   ]
  },
  {
   "cell_type": "code",
   "execution_count": 30,
   "metadata": {},
   "outputs": [
    {
     "name": "stdout",
     "output_type": "stream",
     "text": [
      "head-hs\n",
      "head-ctrl\n",
      "body-hs\n",
      "body-ctrl\n"
     ]
    }
   ],
   "source": [
    "state = {}\n",
    "for t in tissues:\n",
    "    for c in conditions:\n",
    "        l = f'{t}-{c}'\n",
    "        print(l)\n",
    "        g = cond_graphs[l]\n",
    "        bs = blocks[t]\n",
    "        # Arctan transform on correlations...\n",
    "        corr = g.edge_properties[\"spearman\"]\n",
    "        g.ep.weight = g.new_edge_property(\"double\", (2*np.arctanh(corr.a)))\n",
    "\n",
    "        # Creating nested block model...\n",
    "        state[l] = NestedBlockState(g, bs=bs,\n",
    "                                    state_args=dict(recs=[g.ep.weight],\n",
    "                                                    rec_types=[\"real-normal\"]))\n"
   ]
  },
  {
   "cell_type": "code",
   "execution_count": 31,
   "metadata": {},
   "outputs": [
    {
     "name": "stdout",
     "output_type": "stream",
     "text": [
      "head-hs\n",
      "head-ctrl\n",
      "body-hs\n",
      "body-ctrl\n"
     ]
    }
   ],
   "source": [
    "for l in labels:\n",
    "    s = state[l]\n",
    "    g = cond_graphs[l]\n",
    "    g.vp.level_0 = g.new_vertex_property(\"double\", s.get_bs()[0])\n",
    "    print(l)\n",
    "    s.draw( eorder=g.ep.weight,\n",
    "            # edge_pen_width = 0,\n",
    "            edge_color=prop_to_size(g.ep.weight, mi=-4, ma=4, power=1, log=False),\n",
    "            ecmap=(mpl.inferno, .6), \n",
    "            edge_gradient=[], \n",
    "            vertex_size = 4,\n",
    "            hvertex_size = 25,\n",
    "            hedge_pen_width = 3,\n",
    "            vertex_color = g.vp.level_0,\n",
    "            vertex_fill_color = g.vp.level_0,\n",
    "            subsample_edges = 30000,\n",
    "            output = \"../../tmp/\" + l + \".png\", \n",
    "            output_size=(2000, 2000))"
   ]
  }
 ],
 "metadata": {
  "kernelspec": {
   "display_name": "gt",
   "language": "python",
   "name": "python3"
  },
  "language_info": {
   "codemirror_mode": {
    "name": "ipython",
    "version": 3
   },
   "file_extension": ".py",
   "mimetype": "text/x-python",
   "name": "python",
   "nbconvert_exporter": "python",
   "pygments_lexer": "ipython3",
   "version": "3.11.6"
  }
 },
 "nbformat": 4,
 "nbformat_minor": 2
}
